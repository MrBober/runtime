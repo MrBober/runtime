{
 "cells": [
  {
   "cell_type": "code",
   "execution_count": 56,
   "metadata": {},
   "outputs": [],
   "source": [
    "## this block is only for function definitions\n",
    "\n",
    "import subprocess\n",
    "import matplotlib.pyplot as plt\n",
    "\n",
    "def get_time_ms_fib(output):\n",
    "\tsplit = output.split('= ')\n",
    "\ttime = split[2].split(' ')[0]\n",
    "\treturn int(time)\n",
    "\n",
    "def get_time_ms_sel(output):\n",
    "\ttime = output.split(' ')[0]\n",
    "\treturn int(time)\n",
    "\n",
    "def graph(runtimes, unit, size):\n",
    "\tlangs = list(runtimes.keys())\n",
    "\ttimes = list(runtimes.values())\n",
    "\tfix, ax = plt.subplots()\n",
    "\tbars = plt.bar(range(len(runtimes)), times, tick_label=langs)\n",
    "\tplt.ylabel(f'time ({unit})') #, rotation='horizontal')\n",
    "\tax.bar_label(bars)\n",
    "\tax.set_title(f'size {size}')\n",
    "\tplt.show()\n",
    "\n",
    "def fibonacci():\n",
    "\truntimes = dict()\n",
    "\t# C\n",
    "\tsubprocess.run(['gcc', '-O3', 'fibonacci/fibonacci.c', '-o', 'classes/fibonacci.out'])\n",
    "\tfib_c = subprocess.run(['classes/fibonacci.out'], stdout=subprocess.PIPE).stdout.decode('utf-8')\n",
    "\truntimes['C'] = get_time_ms_fib(fib_c)\n",
    "\t# Java\n",
    "\tsubprocess.run(['javac', '-d', 'classes', 'fibonacci/fibonacci.java'])\n",
    "\tfib_java = subprocess.run(['java', '-cp', 'classes', 'fibonacci'], stdout=subprocess.PIPE).stdout.decode('utf-8')\n",
    "\truntimes['Java'] = get_time_ms_fib(fib_java)\n",
    "\t# Python\n",
    "\tfib_py = subprocess.run(['python3', 'fibonacci/fibonacci.py'], stdout=subprocess.PIPE).stdout.decode('utf-8')\n",
    "\truntimes['Python'] = get_time_ms_fib(fib_py)\n",
    "\tgraph(runtimes)\n",
    "\n",
    "def selection():\n",
    "\truntimes = dict()\n",
    "\t# C\n",
    "\tsubprocess.run(['gcc', '-O3', 'selection/Selection.c', '-o', 'classes/selection.out'])\n",
    "\tsel_c = subprocess.run(['classes/selection.out'], stdout=subprocess.PIPE).stdout.decode('utf-8')\n",
    "\truntimes['C'] = get_time_ms_sel(sel_c)\n",
    "\t# Java\n",
    "\tsubprocess.run(['javac', '-d', 'classes', 'selection/Selection.java'])\n",
    "\tsel_java = subprocess.run(['java', '-cp', 'classes', 'Selection'], stdout=subprocess.PIPE).stdout.decode('utf-8')\n",
    "\truntimes['Java'] = get_time_ms_sel(sel_java)\n",
    "\t# Python\n",
    "\tsel_py = subprocess.run(['python3', 'selection/Selection.py'], stdout=subprocess.PIPE).stdout.decode('utf-8')\n",
    "\truntimes['Python'] = get_time_ms_sel(sel_py)\n",
    "\tgraph(runtimes)\n",
    "\n",
    "def get_time_us_sum(output):\n",
    "\treturn output.split(' ')[5]\n",
    "\n",
    "def sum(size, unit): # each program returns time in µs\n",
    "\t# sum a list with each index value = its key\n",
    "\truntimes = dict()\n",
    "\tunits = {'µs':1, 'ms':1000, 's':1000000}\n",
    "\t# C\n",
    "\tsubprocess.run(['gcc', '-O3', 'sum/sum.c', '-o', 'classes/sum.out'])\n",
    "\tsum_c = subprocess.run(['classes/sum.out', size], stdout=subprocess.PIPE).stdout.decode('utf-8')\n",
    "\truntimes['C'] = int(int(sum_c) / units[unit])\n",
    "\t# Java\n",
    "\tsubprocess.run(['javac', '-d', 'classes', 'sum/Sum.java'])\n",
    "\tsum_java = subprocess.run(['java', '-cp', 'classes', 'Sum', size], stdout=subprocess.PIPE).stdout.decode('utf-8')\n",
    "\truntimes['Java'] = int(int(sum_java) / units[unit])\n",
    "\t# Python\n",
    "\tsum_py = subprocess.run(['python3', 'sum/sum.py', size], stdout=subprocess.PIPE).stdout.decode('utf-8')\n",
    "\truntimes['Python'] = int(int(sum_py) / units[unit])\n",
    "\treturn runtimes\n",
    "\t#graph(runtimes, unit=unit)\n",
    "\n",
    "def matrixmult(size, unit): # each program returns time in µs\n",
    "\t# sum 2 2D matrices with index value equal to adding keys\n",
    "\truntimes = {'size':size}\n",
    "\tunits = {'µs':1, 'ms':1000, 's':1000000}\n",
    "\t# C\n",
    "\tsubprocess.run(['gcc', '-O3', 'matrixmult/MatrixMult.c', '-o', 'classes/MatrixMult.out'])\n",
    "\tmatrmult_c = int(subprocess.run(['classes/MatrixMult.out', size], stdout=subprocess.PIPE).stdout.decode('utf-8'))\n",
    "\truntimes['C'] = int(matrmult_c / units[unit])\n",
    "\t# Java\n",
    "\tsubprocess.run(['javac', '-d', 'classes', 'matrixmult/MatrixMult.java'])\n",
    "\tmatrmult_java = int(subprocess.run(['java', '-cp', 'classes', 'MatrixMult', size], stdout=subprocess.PIPE).stdout.decode('utf-8'))\n",
    "\truntimes['Java'] = int(matrmult_java / units[unit])\n",
    "\t# Python\n",
    "\tmatrmult_py = int(subprocess.run(['python3', 'matrixmult/MatrixMult.py', size], stdout=subprocess.PIPE).stdout.decode('utf-8'))\n",
    "\truntimes['Python'] = int(matrmult_py / units[unit])\n",
    "\t# graph\n",
    "\treturn runtimes\n",
    "\t"
   ]
  },
  {
   "cell_type": "code",
   "execution_count": 61,
   "metadata": {},
   "outputs": [
    {
     "data": {
      "image/png": "[encoded data removed]",
      "text/plain": [
       "<Figure size 432x288 with 1 Axes>"
      ]
     },
     "metadata": {
      "needs_background": "light"
     },
     "output_type": "display_data"
    }
   ],
   "source": [
    "def graph_matrix_mult():\n",
    "\tunit='ms'\n",
    "\tmatrix_mult = {'64^2' :matrixmult(size='64', unit=unit),\n",
    "\t\t\t\t   '128^2':matrixmult(size='128',unit=unit),\n",
    "\t\t\t\t   '256^2':matrixmult(size='256',unit=unit),\n",
    "\t\t\t\t   '512^2':matrixmult(size='512',unit=unit)}\n",
    "\tc, py, java = list(), list(), list()\n",
    "\tfor value in matrix_mult.values():\n",
    "\t\tc.append(value['C'])\n",
    "\t\tpy.append(value['Python'])\n",
    "\t\tjava.append(value['Java'])\n",
    "\tplt.title('Matrix Multiplication')\n",
    "\tplt.ylabel(f'time ({unit})')\n",
    "\tplt.xlabel(f'Matrix Size')\n",
    "\tplt.plot(matrix_mult.keys(), py, label='Python')\n",
    "\tplt.plot(matrix_mult.keys(), java, label='Java')\n",
    "\tplt.plot(matrix_mult.keys(), c, label='C')\n",
    "\tplt.legend()\n",
    "\tplt.show()\n",
    "graph_matrix_mult()"
   ]
  },
  {
   "cell_type": "code",
   "execution_count": null,
   "metadata": {},
   "outputs": [],
   "source": []
  },
  {
   "cell_type": "code",
   "execution_count": null,
   "metadata": {},
   "outputs": [],
   "source": [
    "\n"
   ]
  },
  {
   "cell_type": "code",
   "execution_count": null,
   "metadata": {},
   "outputs": [],
   "source": []
  }
 ],
 "metadata": {
  "interpreter": {
   "hash": "b0fa6594d8f4cbf19f97940f81e996739fb7646882a419484c72d19e05852a7e"
  },
  "kernelspec": {
   "display_name": "Python 3.9.12 64-bit",
   "language": "python",
   "name": "python3"
  },
  "language_info": {
   "codemirror_mode": {
    "name": "ipython",
    "version": 3
   },
   "file_extension": ".py",
   "mimetype": "text/x-python",
   "name": "python",
   "nbconvert_exporter": "python",
   "pygments_lexer": "ipython3",
   "version": "3.10.2"
  },
  "orig_nbformat": 4
 },
 "nbformat": 4,
 "nbformat_minor": 2
}
